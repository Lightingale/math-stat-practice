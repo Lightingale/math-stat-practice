{
 "cells": [
  {
   "cell_type": "markdown",
   "metadata": {},
   "source": [
    "# Линейная регрессия. Задача 2\n"
   ]
  },
  {
   "cell_type": "markdown",
   "metadata": {},
   "source": [
    "__Ильичёв А.С., 693__"
   ]
  },
  {
   "cell_type": "code",
   "execution_count": 1,
   "metadata": {},
   "outputs": [],
   "source": [
    "import numpy as np\n",
    "import pandas as pd\n",
    "from matplotlib import pyplot as plt\n",
    "%matplotlib inline"
   ]
  },
  {
   "cell_type": "markdown",
   "metadata": {},
   "source": [
    "#### 1. Теоретическое введение."
   ]
  },
  {
   "cell_type": "markdown",
   "metadata": {},
   "source": [
    "Имеем задачу $X_i = \\beta_1 + i\\beta_2 + \\varepsilon_0+ \\dots+\\varepsilon_i,\\,i=0,1,\\dots, n$, $\\varepsilon_i$ независимы и распределены по $N(0, \\sigma^2)$. Эта задача сводится к линейной модели следующим образом:\n",
    "\n",
    "$$X_0 = \\beta_1 +   \\varepsilon_0$$\n",
    "$$X_i - X_{i - 1} = \\beta_2 +   \\varepsilon_i, \\,\\,\\, i=1,\\dots, n$$"
   ]
  },
  {
   "cell_type": "markdown",
   "metadata": {},
   "source": [
    "В этом случае целевая переменная (наблюдение) Y и  матрица весов Z  примут вид:\n",
    "\n",
    "$$ Y = \\begin{pmatrix}\n",
    "X_0\\\\\n",
    "X_1 - X_0\\\\\n",
    "\\vdots \\\\\n",
    "X_n - X_{n - 1}\n",
    "\\end{pmatrix}, \\,\\,\\,\n",
    "Z = \\begin{pmatrix}\n",
    "1&0\\\\\n",
    "0&1\\\\\n",
    "\\vdots&\\vdots \\\\\n",
    "0&1\n",
    "\\end{pmatrix}$$\n",
    "(всего $n + 1$ строк)."
   ]
  },
  {
   "cell_type": "markdown",
   "metadata": {},
   "source": [
    "#### 2. Считаем данные и проведем их обработку."
   ]
  },
  {
   "cell_type": "code",
   "execution_count": 2,
   "metadata": {},
   "outputs": [
    {
     "data": {
      "text/html": [
       "<div>\n",
       "<style scoped>\n",
       "    .dataframe tbody tr th:only-of-type {\n",
       "        vertical-align: middle;\n",
       "    }\n",
       "\n",
       "    .dataframe tbody tr th {\n",
       "        vertical-align: top;\n",
       "    }\n",
       "\n",
       "    .dataframe thead th {\n",
       "        text-align: right;\n",
       "    }\n",
       "</style>\n",
       "<table border=\"1\" class=\"dataframe\">\n",
       "  <thead>\n",
       "    <tr style=\"text-align: right;\">\n",
       "      <th></th>\n",
       "      <th>x</th>\n",
       "    </tr>\n",
       "  </thead>\n",
       "  <tbody>\n",
       "    <tr>\n",
       "      <th>0</th>\n",
       "      <td>63.5725</td>\n",
       "    </tr>\n",
       "    <tr>\n",
       "      <th>1</th>\n",
       "      <td>72.9531</td>\n",
       "    </tr>\n",
       "    <tr>\n",
       "      <th>2</th>\n",
       "      <td>83.6808</td>\n",
       "    </tr>\n",
       "    <tr>\n",
       "      <th>3</th>\n",
       "      <td>96.2717</td>\n",
       "    </tr>\n",
       "    <tr>\n",
       "      <th>4</th>\n",
       "      <td>103.2173</td>\n",
       "    </tr>\n",
       "  </tbody>\n",
       "</table>\n",
       "</div>"
      ],
      "text/plain": [
       "          x\n",
       "0   63.5725\n",
       "1   72.9531\n",
       "2   83.6808\n",
       "3   96.2717\n",
       "4  103.2173"
      ]
     },
     "execution_count": 2,
     "metadata": {},
     "output_type": "execute_result"
    }
   ],
   "source": [
    "df = pd.read_csv('Regression.csv', names=['x'])\n",
    "df.head()"
   ]
  },
  {
   "cell_type": "markdown",
   "metadata": {},
   "source": [
    "Создадим вектор $Y$, как описано выше."
   ]
  },
  {
   "cell_type": "code",
   "execution_count": 3,
   "metadata": {},
   "outputs": [],
   "source": [
    "Y = np.zeros(len(df))\n",
    "Y = np.append(df.x.iloc[0],\n",
    "             [df.x.iloc[i] - df.x.iloc[i - 1]\n",
    "              for i in range(1, len(df))])"
   ]
  },
  {
   "cell_type": "code",
   "execution_count": 4,
   "metadata": {},
   "outputs": [
    {
     "data": {
      "text/plain": [
       "63.5725"
      ]
     },
     "execution_count": 4,
     "metadata": {},
     "output_type": "execute_result"
    }
   ],
   "source": [
    "Y[0]"
   ]
  },
  {
   "cell_type": "code",
   "execution_count": 5,
   "metadata": {},
   "outputs": [
    {
     "data": {
      "text/plain": [
       "9.967341441441443"
      ]
     },
     "execution_count": 5,
     "metadata": {},
     "output_type": "execute_result"
    }
   ],
   "source": [
    "np.mean(Y[1:])"
   ]
  },
  {
   "cell_type": "markdown",
   "metadata": {},
   "source": [
    "Создадим матрицу Z. Здесь $m = n + 1$, где $n$ - из условия."
   ]
  },
  {
   "cell_type": "code",
   "execution_count": 6,
   "metadata": {},
   "outputs": [],
   "source": [
    "m = len(df)\n",
    "Z = np.concatenate(([[1, 0]], \n",
    "                    np.column_stack((np.zeros(m - 1),\n",
    "                                     np.ones(m - 1)))), axis=0)"
   ]
  },
  {
   "cell_type": "markdown",
   "metadata": {},
   "source": [
    "#### 3. Найдем оценки наименьших квадратов для $\\beta_1$ и $\\beta_2$, а также несмещенную оценку для $\\sigma^2$."
   ]
  },
  {
   "cell_type": "markdown",
   "metadata": {},
   "source": [
    "Имеем $(\\hat\\beta_1, \\hat\\beta_2)^T = \\hat\\theta = (Z^TZ)^{-1}Z^TY$, $\\,\\,\\,\\,\\hat\\sigma^2 = \\frac1{m-k}\\Vert Y - Z\\hat\\theta \\Vert$, где $m$ = размер наблюдения, $k$ - количество столбцов в Z."
   ]
  },
  {
   "cell_type": "code",
   "execution_count": 7,
   "metadata": {},
   "outputs": [],
   "source": [
    "k = Z.shape[1]"
   ]
  },
  {
   "cell_type": "code",
   "execution_count": 8,
   "metadata": {},
   "outputs": [],
   "source": [
    "t = np.dot((np.linalg.inv(Z.T @ Z) @ Z.T), Y)"
   ]
  },
  {
   "cell_type": "code",
   "execution_count": 9,
   "metadata": {},
   "outputs": [
    {
     "data": {
      "text/plain": [
       "array([63.5725    ,  9.96734144])"
      ]
     },
     "execution_count": 9,
     "metadata": {},
     "output_type": "execute_result"
    }
   ],
   "source": [
    "t"
   ]
  },
  {
   "cell_type": "code",
   "execution_count": 10,
   "metadata": {},
   "outputs": [
    {
     "data": {
      "text/plain": [
       "4.222797059623577"
      ]
     },
     "execution_count": 10,
     "metadata": {},
     "output_type": "execute_result"
    }
   ],
   "source": [
    "sigma2 = np.sum((Y - Z @ t) ** 2) / (m - k)\n",
    "sigma2"
   ]
  },
  {
   "cell_type": "markdown",
   "metadata": {},
   "source": [
    "В теоретической задаче 8.2 были получены аналитические формулы для оцениваемых параметров:\n",
    "\n",
    "$$\n",
    " \\begin{pmatrix}\n",
    "\\hat\\beta_1\\\\\n",
    "\\hat\\beta_2\n",
    "\\end{pmatrix} = \n",
    " \\begin{pmatrix}\n",
    "X_0\\\\\n",
    "\\frac1n (X_n - X_0)\n",
    "\\end{pmatrix}, \\,\\,\\,\\,\\,\n",
    "\\hat\\sigma^2 = \\frac1{n - 1}\\left( \\sum_{i=1}^n (X_i - X_{i-1})^2 - \\frac1n(X_n - X_0)^2\\right).\n",
    "$$\n",
    "Подставим в них наши значения."
   ]
  },
  {
   "cell_type": "code",
   "execution_count": 11,
   "metadata": {},
   "outputs": [
    {
     "data": {
      "text/plain": [
       "63.5725"
      ]
     },
     "execution_count": 11,
     "metadata": {},
     "output_type": "execute_result"
    }
   ],
   "source": [
    "n = m - 1\n",
    "b1 = Y[0]\n",
    "b1"
   ]
  },
  {
   "cell_type": "code",
   "execution_count": 12,
   "metadata": {},
   "outputs": [
    {
     "data": {
      "text/plain": [
       "9.967341441441441"
      ]
     },
     "execution_count": 12,
     "metadata": {},
     "output_type": "execute_result"
    }
   ],
   "source": [
    "b2 = (df.x.iloc[n] - Y[0]) / n\n",
    "b2"
   ]
  },
  {
   "cell_type": "code",
   "execution_count": 13,
   "metadata": {},
   "outputs": [
    {
     "data": {
      "text/plain": [
       "4.222797059623573"
      ]
     },
     "execution_count": 13,
     "metadata": {},
     "output_type": "execute_result"
    }
   ],
   "source": [
    "sigma2_theor = (np.sum(Y[1:] ** 2) - n * b2 ** 2) / (n - 1)\n",
    "sigma2_theor"
   ]
  },
  {
   "cell_type": "markdown",
   "metadata": {},
   "source": [
    "Очевидно, значения совпадают с полученными первым способом (в последнем разряде уже влияют ошибки округления)."
   ]
  },
  {
   "cell_type": "markdown",
   "metadata": {},
   "source": [
    "#### 4. Найдем оценку дисперсии отсчета времени. "
   ]
  },
  {
   "cell_type": "markdown",
   "metadata": {},
   "source": [
    "По условию $\\varepsilon_i = \\varepsilon_i^t \\beta_2$, откуда $D \\varepsilon_i^t = \\frac{D \\varepsilon_i}{\\beta_2^2}$. Такое же соотношение по теореме о наследовании сходимости верно для оценок: $\\hat\\sigma_t^2 = \\frac{\\hat\\sigma^2}{\\hat\\beta_2^2}$"
   ]
  },
  {
   "cell_type": "code",
   "execution_count": 14,
   "metadata": {},
   "outputs": [
    {
     "data": {
      "text/plain": [
       "0.04250514862126407"
      ]
     },
     "execution_count": 14,
     "metadata": {},
     "output_type": "execute_result"
    }
   ],
   "source": [
    "sigma2_t = sigma2 / b2 ** 2\n",
    "sigma2_t"
   ]
  },
  {
   "cell_type": "markdown",
   "metadata": {},
   "source": [
    "#### 5. Вывод"
   ]
  },
  {
   "cell_type": "markdown",
   "metadata": {},
   "source": [
    "Оценка по методу наименьших квадратов в нашем случае совпадает с выборочным средним (ОМП). Можно сделать вывод, что данная задача хорошо описывается линейной регрессионной моделью. Оценки, полученные численным расчетом через матрицы и аналитическим выводом, совпадают. "
   ]
  }
 ],
 "metadata": {
  "kernelspec": {
   "display_name": "Python 3",
   "language": "python",
   "name": "python3"
  },
  "language_info": {
   "codemirror_mode": {
    "name": "ipython",
    "version": 3
   },
   "file_extension": ".py",
   "mimetype": "text/x-python",
   "name": "python",
   "nbconvert_exporter": "python",
   "pygments_lexer": "ipython3",
   "version": "3.6.5"
  }
 },
 "nbformat": 4,
 "nbformat_minor": 2
}
