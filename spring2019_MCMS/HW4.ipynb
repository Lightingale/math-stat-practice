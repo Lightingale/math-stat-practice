{
 "cells": [
  {
   "cell_type": "markdown",
   "metadata": {},
   "source": [
    "# HW2. Множественная проверка гипотез, выбросы\n",
    "#### Ильичёв А.С., 693"
   ]
  },
  {
   "cell_type": "code",
   "execution_count": 6,
   "metadata": {},
   "outputs": [],
   "source": [
    "import numpy as np\n",
    "import math as m\n",
    "import matplotlib.pyplot as plt\n",
    "import seaborn as sns\n",
    "import scipy.stats as sts\n",
    "import pandas as pd\n",
    "\n",
    "%matplotlib inline\n",
    "\n",
    "plt.rcParams['figure.figsize'] = (10, 5) \n"
   ]
  },
  {
   "cell_type": "markdown",
   "metadata": {},
   "source": [
    "## Задача 2"
   ]
  },
  {
   "cell_type": "markdown",
   "metadata": {},
   "source": [
    "Процедура Холма:\n",
    "\n",
    "$\\alpha_i = \\frac{\\alpha}{m-i+1}$. Если $p_{(i)} \\ge \\alpha_i$ - принимаем все гипотезы, начиная с данной, и останавливаемся, иначе отвергаем данную гипотезу и продолжаем, и так далее.\n",
    "\n",
    "Пусть $h$ - первая отвергнутая верная гипотеза, $m_0$ - количество верных гипотез, $H_{(1)}, \\dots, H_{(h-1)}$ - отвергнутые гипотезы (ложные по нашему предположению). Тогда $h-1\\le m-m_0$ (количество ложных гипотез). Отсюда получаем $\\frac{1}{m-h+1} \\le \\frac{1}{m_0}$. По определению процедуры мы имеем $p_{(h)} \\le \\frac{\\alpha}{m-h+1} \\le \\frac{\\alpha}{m_0}$, то есть мы отвергаем верную гипотезу с вероятностью не больше, чем $\\frac{\\alpha}{m_0}$. Тогда аналогично методу Бонферрони имеем:\n",
    "\n",
    "$$\n",
    "FWER = P(V > 0) = P(\\exists j\\in M_0: p_j \\le \\frac{\\alpha}{m_0}) \\le m_0 \\cdot \\frac{\\alpha}{m_0} = \\alpha, \n",
    "$$\n",
    "ч.т.д."
   ]
  },
  {
   "cell_type": "markdown",
   "metadata": {},
   "source": [
    "## Задача 3"
   ]
  },
  {
   "cell_type": "code",
   "execution_count": 7,
   "metadata": {},
   "outputs": [],
   "source": [
    "wine = pd.read_csv('wine.data.txt', header=None)"
   ]
  },
  {
   "cell_type": "code",
   "execution_count": 8,
   "metadata": {},
   "outputs": [
    {
     "data": {
      "text/html": [
       "<div>\n",
       "<style scoped>\n",
       "    .dataframe tbody tr th:only-of-type {\n",
       "        vertical-align: middle;\n",
       "    }\n",
       "\n",
       "    .dataframe tbody tr th {\n",
       "        vertical-align: top;\n",
       "    }\n",
       "\n",
       "    .dataframe thead th {\n",
       "        text-align: right;\n",
       "    }\n",
       "</style>\n",
       "<table border=\"1\" class=\"dataframe\">\n",
       "  <thead>\n",
       "    <tr style=\"text-align: right;\">\n",
       "      <th></th>\n",
       "      <th>0</th>\n",
       "      <th>1</th>\n",
       "      <th>2</th>\n",
       "      <th>3</th>\n",
       "      <th>4</th>\n",
       "      <th>5</th>\n",
       "      <th>6</th>\n",
       "      <th>7</th>\n",
       "      <th>8</th>\n",
       "      <th>9</th>\n",
       "      <th>10</th>\n",
       "      <th>11</th>\n",
       "      <th>12</th>\n",
       "      <th>13</th>\n",
       "    </tr>\n",
       "  </thead>\n",
       "  <tbody>\n",
       "    <tr>\n",
       "      <th>0</th>\n",
       "      <td>1</td>\n",
       "      <td>14.23</td>\n",
       "      <td>1.71</td>\n",
       "      <td>2.43</td>\n",
       "      <td>15.6</td>\n",
       "      <td>127</td>\n",
       "      <td>2.80</td>\n",
       "      <td>3.06</td>\n",
       "      <td>0.28</td>\n",
       "      <td>2.29</td>\n",
       "      <td>5.64</td>\n",
       "      <td>1.04</td>\n",
       "      <td>3.92</td>\n",
       "      <td>1065</td>\n",
       "    </tr>\n",
       "    <tr>\n",
       "      <th>1</th>\n",
       "      <td>1</td>\n",
       "      <td>13.20</td>\n",
       "      <td>1.78</td>\n",
       "      <td>2.14</td>\n",
       "      <td>11.2</td>\n",
       "      <td>100</td>\n",
       "      <td>2.65</td>\n",
       "      <td>2.76</td>\n",
       "      <td>0.26</td>\n",
       "      <td>1.28</td>\n",
       "      <td>4.38</td>\n",
       "      <td>1.05</td>\n",
       "      <td>3.40</td>\n",
       "      <td>1050</td>\n",
       "    </tr>\n",
       "    <tr>\n",
       "      <th>2</th>\n",
       "      <td>1</td>\n",
       "      <td>13.16</td>\n",
       "      <td>2.36</td>\n",
       "      <td>2.67</td>\n",
       "      <td>18.6</td>\n",
       "      <td>101</td>\n",
       "      <td>2.80</td>\n",
       "      <td>3.24</td>\n",
       "      <td>0.30</td>\n",
       "      <td>2.81</td>\n",
       "      <td>5.68</td>\n",
       "      <td>1.03</td>\n",
       "      <td>3.17</td>\n",
       "      <td>1185</td>\n",
       "    </tr>\n",
       "    <tr>\n",
       "      <th>3</th>\n",
       "      <td>1</td>\n",
       "      <td>14.37</td>\n",
       "      <td>1.95</td>\n",
       "      <td>2.50</td>\n",
       "      <td>16.8</td>\n",
       "      <td>113</td>\n",
       "      <td>3.85</td>\n",
       "      <td>3.49</td>\n",
       "      <td>0.24</td>\n",
       "      <td>2.18</td>\n",
       "      <td>7.80</td>\n",
       "      <td>0.86</td>\n",
       "      <td>3.45</td>\n",
       "      <td>1480</td>\n",
       "    </tr>\n",
       "    <tr>\n",
       "      <th>4</th>\n",
       "      <td>1</td>\n",
       "      <td>13.24</td>\n",
       "      <td>2.59</td>\n",
       "      <td>2.87</td>\n",
       "      <td>21.0</td>\n",
       "      <td>118</td>\n",
       "      <td>2.80</td>\n",
       "      <td>2.69</td>\n",
       "      <td>0.39</td>\n",
       "      <td>1.82</td>\n",
       "      <td>4.32</td>\n",
       "      <td>1.04</td>\n",
       "      <td>2.93</td>\n",
       "      <td>735</td>\n",
       "    </tr>\n",
       "  </tbody>\n",
       "</table>\n",
       "</div>"
      ],
      "text/plain": [
       "   0      1     2     3     4    5     6     7     8     9     10    11    12  \\\n",
       "0   1  14.23  1.71  2.43  15.6  127  2.80  3.06  0.28  2.29  5.64  1.04  3.92   \n",
       "1   1  13.20  1.78  2.14  11.2  100  2.65  2.76  0.26  1.28  4.38  1.05  3.40   \n",
       "2   1  13.16  2.36  2.67  18.6  101  2.80  3.24  0.30  2.81  5.68  1.03  3.17   \n",
       "3   1  14.37  1.95  2.50  16.8  113  3.85  3.49  0.24  2.18  7.80  0.86  3.45   \n",
       "4   1  13.24  2.59  2.87  21.0  118  2.80  2.69  0.39  1.82  4.32  1.04  2.93   \n",
       "\n",
       "     13  \n",
       "0  1065  \n",
       "1  1050  \n",
       "2  1185  \n",
       "3  1480  \n",
       "4   735  "
      ]
     },
     "execution_count": 8,
     "metadata": {},
     "output_type": "execute_result"
    }
   ],
   "source": [
    "wine.head()"
   ]
  },
  {
   "cell_type": "code",
   "execution_count": 9,
   "metadata": {},
   "outputs": [],
   "source": [
    "wine_sample = wine[1]"
   ]
  },
  {
   "cell_type": "code",
   "execution_count": 10,
   "metadata": {},
   "outputs": [
    {
     "data": {
      "image/png": "[encoded data removed]",
      "text/plain": [
       "<Figure size 720x360 with 1 Axes>"
      ]
     },
     "metadata": {
      "needs_background": "light"
     },
     "output_type": "display_data"
    }
   ],
   "source": [
    "plt.hist(wine_sample, bins=25, density=True)\n",
    "xs = np.linspace(11, 15, 1000)\n",
    "plt.plot(xs, sts.norm(loc=wine_sample.mean(), scale=wine_sample.std()).pdf(xs))\n",
    "plt.show()"
   ]
  },
  {
   "cell_type": "markdown",
   "metadata": {},
   "source": [
    "Выберем 5 критериев проверки нормальности: "
   ]
  },
  {
   "cell_type": "code",
   "execution_count": 11,
   "metadata": {},
   "outputs": [],
   "source": [
    "import statsmodels.stats.diagnostic as diag\n",
    "import statsmodels.stats.stattools as tools\n",
    "\n",
    "def p_lilliefors(sample):\n",
    "    return diag.lilliefors(sample, dist='norm')[1]\n",
    "\n",
    "def p_jarque_bera(sample):\n",
    "    return tools.jarque_bera(sample)[1]\n",
    "    \n",
    "def p_anderson_darling(sample):\n",
    "    return diag.normal_ad(sample)[1]\n",
    "\n",
    "def p_shapiro_wilk(sample):\n",
    "    return sts.shapiro(sample)[1]\n",
    "\n",
    "def p_normaltest(sample):\n",
    "    return sts.normaltest(sample)[1]\n",
    "\n",
    "p_funcs = [p_lilliefors, p_jarque_bera, p_anderson_darling, p_shapiro_wilk, p_normaltest]"
   ]
  },
  {
   "cell_type": "markdown",
   "metadata": {},
   "source": [
    "Будем использовать метод Холма, так как он наиболее мощный среди контролирующих FWER на уровне $\\alpha$ при отсутствии информации о характере зависимости между статистиками. Они не независимы, потому что, например, normaltest и метод Харке-Бера используют skewness и kurtosis, но с разными весами. "
   ]
  },
  {
   "cell_type": "code",
   "execution_count": 12,
   "metadata": {},
   "outputs": [],
   "source": [
    "def holm(sample, p_funcs, alpha=0.05):\n",
    "    pvalues = [p_func(sample) for p_func in p_funcs]\n",
    "    m = len(pvalues)\n",
    "    stop = m\n",
    "    acc = False\n",
    "    answers = np.full(m, True)\n",
    "    for i, (num, pval) in (enumerate(sorted(enumerate(pvalues), key=lambda x: x[1]))):\n",
    "        threshold = alpha / (m - i)\n",
    "        if pval >= threshold:\n",
    "            stop = i\n",
    "            acc = True\n",
    "        print('{}: {}, p={}, threshold={}, acc={}'.format(i+1, p_funcs[num].__name__, pval, threshold, acc))\n",
    "        if acc:\n",
    "            break\n",
    "        answers[num] = acc\n",
    "    return answers"
   ]
  },
  {
   "cell_type": "code",
   "execution_count": 14,
   "metadata": {},
   "outputs": [
    {
     "name": "stdout",
     "output_type": "stream",
     "text": [
      "1: p_normaltest, p=0.00034163202531285264, threshold=0.01, acc=False\n",
      "2: p_anderson_darling, p=0.009931995671743278, threshold=0.0125, acc=False\n",
      "3: p_shapiro_wilk, p=0.02005171775817871, threshold=0.016666666666666666, acc=True\n"
     ]
    },
    {
     "data": {
      "text/plain": [
       "array([ True,  True, False,  True, False])"
      ]
     },
     "execution_count": 14,
     "metadata": {},
     "output_type": "execute_result"
    }
   ],
   "source": [
    "holm(wine_sample, p_funcs)"
   ]
  },
  {
   "cell_type": "markdown",
   "metadata": {},
   "source": [
    "Вообще, метод Холма останавливается, когда принимает хотя бы одну гипотезу. Но тут мы проверяем одну и ту же гипотезу на одних и тех же данных, так что нам следует остановиться после первой же отвергнутой. Таким образом, мы отвергаем гипотезу о нормальности выборки на уровне значимости 0.05."
   ]
  },
  {
   "cell_type": "markdown",
   "metadata": {},
   "source": [
    "## Задача 4"
   ]
  },
  {
   "cell_type": "code",
   "execution_count": 15,
   "metadata": {},
   "outputs": [
    {
     "data": {
      "text/plain": [
       "1000"
      ]
     },
     "execution_count": 15,
     "metadata": {},
     "output_type": "execute_result"
    }
   ],
   "source": [
    "sample4 = np.load('hw4t4.npy')\n",
    "len(sample4)"
   ]
  },
  {
   "cell_type": "code",
   "execution_count": 16,
   "metadata": {},
   "outputs": [
    {
     "data": {
      "image/png": "[encoded data removed]",
      "text/plain": [
       "<Figure size 720x360 with 1 Axes>"
      ]
     },
     "metadata": {
      "needs_background": "light"
     },
     "output_type": "display_data"
    }
   ],
   "source": [
    "plt.hist(sample4, bins=100);"
   ]
  },
  {
   "cell_type": "code",
   "execution_count": 17,
   "metadata": {},
   "outputs": [
    {
     "data": {
      "text/plain": [
       "[4920.797509006718,\n",
       " 4350.9663533823195,\n",
       " 3780.2215332310416,\n",
       " 1858.446360236833,\n",
       " 847.5049034569635,\n",
       " 522.0896089841228,\n",
       " 423.23194352701415,\n",
       " 398.8777590079071,\n",
       " 313.4389498145297,\n",
       " 203.99461945248737,\n",
       " 168.37595296265,\n",
       " 118.68854484886197,\n",
       " 98.89741873459543,\n",
       " 96.6225779762715,\n",
       " 94.58933478435856,\n",
       " 89.69871921581012,\n",
       " 87.86760083711596,\n",
       " 78.47764829052663,\n",
       " 65.34956487988298,\n",
       " 63.61834976424348]"
      ]
     },
     "execution_count": 17,
     "metadata": {},
     "output_type": "execute_result"
    }
   ],
   "source": [
    "sorted(sample4, reverse=True)[:20]"
   ]
  },
  {
   "cell_type": "markdown",
   "metadata": {},
   "source": [
    "В выборке присутствует несколько очень больших значений, из-за которых гистограмма получается неинформативной. Скорее всего, это выбросы,тем более, речь идет о сроке службы лампочек в годах, и значения больше 50 тут вряд ли (СССР успел распасться за это время). Возможно, кто-то перепутал и добавил в выборку срок службы в днях. Уберем выбросы с помощью границ Тьюки, взяв только правую границу, потому что выбросы только с одной стороны. "
   ]
  },
  {
   "cell_type": "code",
   "execution_count": 18,
   "metadata": {},
   "outputs": [
    {
     "data": {
      "text/plain": [
       "(1.1841529338117915, 6.5564940296289)"
      ]
     },
     "execution_count": 18,
     "metadata": {},
     "output_type": "execute_result"
    }
   ],
   "source": [
    "q1 = np.percentile(sample4, 25)\n",
    "q3 = np.percentile(sample4, 75) \n",
    "k = 1.5\n",
    "q1, q3"
   ]
  },
  {
   "cell_type": "code",
   "execution_count": 19,
   "metadata": {},
   "outputs": [
    {
     "data": {
      "text/plain": [
       "14.615005673354563"
      ]
     },
     "execution_count": 19,
     "metadata": {},
     "output_type": "execute_result"
    }
   ],
   "source": [
    "right = q3 + k * (q3 - q1)\n",
    "right"
   ]
  },
  {
   "cell_type": "code",
   "execution_count": 20,
   "metadata": {},
   "outputs": [
    {
     "data": {
      "text/plain": [
       "937"
      ]
     },
     "execution_count": 20,
     "metadata": {},
     "output_type": "execute_result"
    }
   ],
   "source": [
    "sample4_cut = sample4[sample4 <= right]\n",
    "len(sample4_cut)"
   ]
  },
  {
   "cell_type": "code",
   "execution_count": 21,
   "metadata": {},
   "outputs": [
    {
     "data": {
      "image/png": "[encoded data removed]",
      "text/plain": [
       "<Figure size 720x360 with 1 Axes>"
      ]
     },
     "metadata": {
      "needs_background": "light"
     },
     "output_type": "display_data"
    }
   ],
   "source": [
    "plt.hist(sample4_cut, bins=30, density=True)\n",
    "xs = np.linspace(0, 15, 1000)\n",
    "plt.plot(xs, sts.expon(scale=sample4_cut.mean()).pdf(xs))\n",
    "plt.show()"
   ]
  },
  {
   "cell_type": "markdown",
   "metadata": {},
   "source": [
    "Воспользуемся модификацией критерия Колмогорова-Смирнова для проверки экспоненциальности на уровне значимости 0.05. "
   ]
  },
  {
   "cell_type": "code",
   "execution_count": 22,
   "metadata": {},
   "outputs": [
    {
     "data": {
      "text/plain": [
       "(0.03841956114458478, 0.2)"
      ]
     },
     "execution_count": 22,
     "metadata": {},
     "output_type": "execute_result"
    }
   ],
   "source": [
    "diag.lilliefors(sample4_cut, dist='exp')"
   ]
  },
  {
   "cell_type": "markdown",
   "metadata": {},
   "source": [
    "P-value больше уровня значимости, поэтому мы принимаем гипотезу об экспоненциальности выборки."
   ]
  },
  {
   "cell_type": "markdown",
   "metadata": {},
   "source": [
    "Оценку среднего срока службы лампочки найдем как выборочное среднее после удаления выбросов."
   ]
  },
  {
   "cell_type": "code",
   "execution_count": 23,
   "metadata": {},
   "outputs": [
    {
     "data": {
      "text/plain": [
       "3.744212438329417"
      ]
     },
     "execution_count": 23,
     "metadata": {},
     "output_type": "execute_result"
    }
   ],
   "source": [
    "sample4_cut.mean()"
   ]
  },
  {
   "cell_type": "markdown",
   "metadata": {},
   "source": [
    "Почти 4 года - выглядит довольно реалистично."
   ]
  },
  {
   "cell_type": "markdown",
   "metadata": {},
   "source": [
    "## Задача 5"
   ]
  },
  {
   "cell_type": "markdown",
   "metadata": {},
   "source": [
    "Получим все выборки."
   ]
  },
  {
   "cell_type": "markdown",
   "metadata": {},
   "source": [
    "__Комментарий__: Предполагается, что имелась в виду все-таки задача 2 из третьего ДЗ - там были выборки из нормального распределения, и в прошлом году она была под номером 3."
   ]
  },
  {
   "cell_type": "code",
   "execution_count": 24,
   "metadata": {},
   "outputs": [],
   "source": [
    "samples = dict()"
   ]
  },
  {
   "cell_type": "code",
   "execution_count": 25,
   "metadata": {},
   "outputs": [],
   "source": [
    "df = pd.read_csv(\"slump_test.data.txt\")\n",
    "slump = np.array(df['Compressive Strength (28-day)(Mpa)'])\n",
    "samples['slump'] = slump"
   ]
  },
  {
   "cell_type": "code",
   "execution_count": 26,
   "metadata": {},
   "outputs": [],
   "source": [
    "samples['alcanity'] = np.array(wine[4])"
   ]
  },
  {
   "cell_type": "code",
   "execution_count": 27,
   "metadata": {},
   "outputs": [],
   "source": [
    "df = pd.read_csv('vowel-context.data.txt', delimiter=' ', header=None)\n",
    "vowel = np.array(df[7])\n",
    "samples['vowel'] = vowel"
   ]
  },
  {
   "cell_type": "code",
   "execution_count": 28,
   "metadata": {},
   "outputs": [],
   "source": [
    "samples['alcohol'] = np.array(wine_sample)\n",
    "samples['ash'] = np.array(wine[3])\n",
    "samples['phenols'] = np.array(wine[8])\n",
    "samples['proanthocyanins'] = np.array(wine[9])"
   ]
  },
  {
   "cell_type": "markdown",
   "metadata": {},
   "source": [
    "Применять процедуру Бенджамини-Хохберга здесь нельзя, потому что мы не можем утверждать независимость выборок, а свойство PDRS проверить нельзя, т.к. нам неизвестно распределение выборок."
   ]
  },
  {
   "cell_type": "code",
   "execution_count": 29,
   "metadata": {},
   "outputs": [],
   "source": [
    "def Iekutelli(pvalues, alpha):\n",
    "    m = len(pvalues)\n",
    "    stop = -1\n",
    "    const = (1./(1+np.arange(m))).sum()\n",
    "    acc = True\n",
    "    answers = np.full(m, False)\n",
    "    for i, (num, pval) in (enumerate(sorted(enumerate(pvalues), key=lambda x: x[1], reverse=True))):\n",
    "        j = m - i\n",
    "        threshold = alpha * j / (m*const)\n",
    "        if pval < threshold:\n",
    "            stop = j\n",
    "            acc = False\n",
    "        print('{}: p={}, threshold={}, acc={}'.format(i+1, pval, threshold, acc))\n",
    "        if not acc:\n",
    "            break\n",
    "        answers[num] = acc\n",
    "    return answers\n"
   ]
  },
  {
   "cell_type": "code",
   "execution_count": 30,
   "metadata": {},
   "outputs": [],
   "source": [
    "pvalues = []\n",
    "for sample in samples.values():\n",
    "    pvalues += [func(sample) for func in p_funcs]"
   ]
  },
  {
   "cell_type": "markdown",
   "metadata": {},
   "source": [
    "Восходящая процедура работает до первой отвергнутой гипотезы."
   ]
  },
  {
   "cell_type": "code",
   "execution_count": 31,
   "metadata": {},
   "outputs": [
    {
     "name": "stdout",
     "output_type": "stream",
     "text": [
      "1: p=0.7066830538902151, threshold=0.012057544140306832, acc=True\n",
      "2: p=0.5915089995351763, threshold=0.011713042879155209, acc=True\n",
      "3: p=0.48257023096084595, threshold=0.011368541618003585, acc=True\n",
      "4: p=0.4058566033223445, threshold=0.01102404035685196, acc=True\n",
      "5: p=0.26386943459510803, threshold=0.010679539095700337, acc=True\n",
      "6: p=0.25093384267983715, threshold=0.010335037834548713, acc=True\n",
      "7: p=0.21004273588925534, threshold=0.00999053657339709, acc=True\n",
      "8: p=0.20530828569458984, threshold=0.009646035312245466, acc=True\n",
      "9: p=0.2001436767305555, threshold=0.009301534051093841, acc=True\n",
      "10: p=0.2, threshold=0.008957032789942218, acc=True\n",
      "11: p=0.2, threshold=0.008612531528790594, acc=True\n",
      "12: p=0.2, threshold=0.008268030267638971, acc=True\n",
      "13: p=0.139149465722061, threshold=0.007923529006487347, acc=True\n",
      "14: p=0.08258012323052723, threshold=0.007579027745335723, acc=True\n",
      "15: p=0.07713065093198859, threshold=0.007234526484184099, acc=True\n",
      "16: p=0.07521317731672612, threshold=0.0068900252230324754, acc=True\n",
      "17: p=0.07086192816495895, threshold=0.006545523961880852, acc=True\n",
      "18: p=0.06658738739061952, threshold=0.006201022700729228, acc=True\n",
      "19: p=0.06343990775464084, threshold=0.005856521439577604, acc=True\n",
      "20: p=0.06106775478515057, threshold=0.00551202017842598, acc=True\n",
      "21: p=0.04404785134835377, threshold=0.005167518917274357, acc=True\n",
      "22: p=0.03868526220321655, threshold=0.004823017656122733, acc=True\n",
      "23: p=0.03631602067034469, threshold=0.004478516394971109, acc=True\n",
      "24: p=0.02005171775817871, threshold=0.0041340151338194854, acc=True\n",
      "25: p=0.01445337850600481, threshold=0.0037895138726678616, acc=True\n",
      "26: p=0.010713589807909946, threshold=0.0034450126115162377, acc=True\n",
      "27: p=0.009931995671743278, threshold=0.003100511350364614, acc=True\n",
      "28: p=0.008485916875615193, threshold=0.00275601008921299, acc=True\n",
      "29: p=0.008000813483971013, threshold=0.0024115088280613666, acc=True\n",
      "30: p=0.007840977373693308, threshold=0.0020670075669097427, acc=True\n",
      "31: p=0.0026647025727076653, threshold=0.0017225063057581189, acc=True\n",
      "32: p=0.00034163202531285264, threshold=0.001378005044606495, acc=False\n"
     ]
    }
   ],
   "source": [
    "answers = Iekutelli(pvalues, 0.05)"
   ]
  },
  {
   "cell_type": "markdown",
   "metadata": {},
   "source": [
    "Если мы проверяем гипотезу о нормальности __всех__ выборок сразу, то ее следует отвергнуть. Проверим теперь гипотезы о нормальности каждой выборки, основываясь на этом тесте."
   ]
  },
  {
   "cell_type": "code",
   "execution_count": 32,
   "metadata": {},
   "outputs": [
    {
     "name": "stdout",
     "output_type": "stream",
     "text": [
      "slump : [ True  True  True  True  True]\n",
      "alcanity : [ True  True  True  True  True]\n",
      "vowel : [ True  True  True  True  True]\n",
      "alcohol : [ True  True  True  True False]\n",
      "ash : [ True  True  True  True  True]\n",
      "phenols : [False  True False False  True]\n",
      "proanthocyanins : [ True  True  True  True  True]\n"
     ]
    }
   ],
   "source": [
    "ind = 0\n",
    "for name in samples.keys():\n",
    "    sample_answers = answers[ind:ind+5]\n",
    "    print(name, \":\", sample_answers)\n",
    "    ind += 5"
   ]
  },
  {
   "cell_type": "markdown",
   "metadata": {},
   "source": [
    "Для всех выборок, кроме alcohol и phenols, гипотеза о нормальности принимается (здесь мы, так же как в 3 задаче, отвергаем гипотезу, если ее отверг хотя бы один критерий, т.к. данные и гипотезы одни и те же). Для alcohol мы уже получили такой же результат (отвергли гипотезу) в третьей задаче. Посмотрим на гистограмму phenols."
   ]
  },
  {
   "cell_type": "code",
   "execution_count": 33,
   "metadata": {},
   "outputs": [
    {
     "data": {
      "image/png": "[encoded data removed]",
      "text/plain": [
       "<Figure size 720x360 with 1 Axes>"
      ]
     },
     "metadata": {
      "needs_background": "light"
     },
     "output_type": "display_data"
    }
   ],
   "source": [
    "plt.hist(samples['phenols'], bins=20);"
   ]
  },
  {
   "cell_type": "markdown",
   "metadata": {},
   "source": [
    "И правда не похоже на нормальное."
   ]
  }
 ],
 "metadata": {
  "kernelspec": {
   "display_name": "Python 3",
   "language": "python",
   "name": "python3"
  },
  "language_info": {
   "codemirror_mode": {
    "name": "ipython",
    "version": 3
   },
   "file_extension": ".py",
   "mimetype": "text/x-python",
   "name": "python",
   "nbconvert_exporter": "python",
   "pygments_lexer": "ipython3",
   "version": "3.6.8"
  },
  "latex_envs": {
   "LaTeX_envs_menu_present": true,
   "autoclose": true,
   "autocomplete": false,
   "bibliofile": "biblio.bib",
   "cite_by": "apalike",
   "current_citInitial": 1,
   "eqLabelWithNumbers": true,
   "eqNumInitial": 1,
   "hotkeys": {
    "equation": "Ctrl-E",
    "itemize": "Ctrl-I"
   },
   "labels_anchors": false,
   "latex_user_defs": false,
   "report_style_numbering": false,
   "user_envs_cfg": false
  }
 },
 "nbformat": 4,
 "nbformat_minor": 2
}
