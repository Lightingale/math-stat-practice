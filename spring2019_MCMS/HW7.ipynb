{
 "cells": [
  {
   "cell_type": "markdown",
   "metadata": {},
   "source": [
    "# HW7. ANOVA.\n",
    "#### Ильичёв А.С., 693"
   ]
  },
  {
   "cell_type": "code",
   "execution_count": 23,
   "metadata": {},
   "outputs": [],
   "source": [
    "import numpy as np\n",
    "import math as m\n",
    "import matplotlib.pyplot as plt\n",
    "import seaborn as sns\n",
    "import scipy.stats as sts\n",
    "import pandas as pd\n",
    "from statsmodels.stats.multitest import multipletests\n",
    "\n",
    "%matplotlib inline\n",
    "\n",
    "plt.rcParams['figure.figsize'] = (10, 5) "
   ]
  },
  {
   "cell_type": "markdown",
   "metadata": {},
   "source": [
    "# Задача 2"
   ]
  },
  {
   "cell_type": "markdown",
   "metadata": {},
   "source": [
    "Пусть гипотеза о нормальности $\\varepsilon_{ij}$ верна, тогда матожидание случайной ошибки равно нулю. Пусть $\\overline X_i = \\frac1k\\sum_{j=1}^k X_{ij}$, $\\overline X_j = \\frac1n\\sum_{i=1}^n X_{ij}$. Тогда:\n",
    "$$\n",
    "\\overline X_i - X_{ij} = (\\overline\\beta - \\beta_j) - \\varepsilon_{ij}\n",
    "$$\n",
    "$$\n",
    "\\overline X_j - X_{ij} = (\\overline\\alpha - \\alpha_i) - \\varepsilon_{ij}\n",
    "$$\n",
    "\n",
    "Сложив и добавив $X_{ij}$, получим\n",
    "\n",
    "$$\n",
    "\\overline X_j + \\overline X_i - X_{ij} = \\mu + \\overline\\alpha + \\overline\\beta - \\varepsilon_{ij}\n",
    "$$\n",
    "\n",
    "В правой части выражения стоит сумма нормально распределенной случайной величины и констант модели, то есть это, по сути, нормальное распределение со сдвигом и можно проверять на нормальность выборку $Y_{ij} = \\overline X_j + \\overline X_i - X_{ij}$."
   ]
  },
  {
   "cell_type": "markdown",
   "metadata": {},
   "source": [
    "# Задача 3"
   ]
  },
  {
   "cell_type": "code",
   "execution_count": 24,
   "metadata": {},
   "outputs": [],
   "source": [
    "with open('hw7t3.txt', 'r') as f:\n",
    "    string = f.read()"
   ]
  },
  {
   "cell_type": "code",
   "execution_count": 25,
   "metadata": {},
   "outputs": [],
   "source": [
    "# from stackoverflow\n",
    "import re\n",
    "import ast\n",
    "import numpy as np\n",
    "def str2array(s):\n",
    "    # Remove space after [\n",
    "    s=re.sub('\\[ +', '[', s.strip())\n",
    "    # Replace commas and spaces\n",
    "    s=re.sub('[,\\s]+', ', ', s)\n",
    "    return np.array(ast.literal_eval(s))"
   ]
  },
  {
   "cell_type": "code",
   "execution_count": 26,
   "metadata": {},
   "outputs": [
    {
     "data": {
      "text/plain": [
       "(151, 3)"
      ]
     },
     "execution_count": 26,
     "metadata": {},
     "output_type": "execute_result"
    }
   ],
   "source": [
    "data = str2array(string)\n",
    "data.shape"
   ]
  },
  {
   "cell_type": "code",
   "execution_count": 27,
   "metadata": {},
   "outputs": [
    {
     "data": {
      "text/plain": [
       "array([['Mr., Fattakhov', 'Mildronate', '0'],\n",
       "       ['Mr., Fattakhov', 'Mildronate', '28'],\n",
       "       ['Mr., Fattakhov', 'Mildronate', '24'],\n",
       "       ['Mr., Fattakhov', 'Mildronate', '32'],\n",
       "       ['Mr., Fattakhov', 'Mildronate', '30']], dtype='<U14')"
      ]
     },
     "execution_count": 27,
     "metadata": {},
     "output_type": "execute_result"
    }
   ],
   "source": [
    "data[:5]"
   ]
  },
  {
   "cell_type": "code",
   "execution_count": 28,
   "metadata": {},
   "outputs": [],
   "source": [
    "df = pd.DataFrame(data, columns=['name', 'med', 'time'])\n",
    "df['time'] = df['time'].astype(int)"
   ]
  },
  {
   "cell_type": "code",
   "execution_count": 29,
   "metadata": {},
   "outputs": [
    {
     "data": {
      "text/html": [
       "<div>\n",
       "<style scoped>\n",
       "    .dataframe tbody tr th:only-of-type {\n",
       "        vertical-align: middle;\n",
       "    }\n",
       "\n",
       "    .dataframe tbody tr th {\n",
       "        vertical-align: top;\n",
       "    }\n",
       "\n",
       "    .dataframe thead th {\n",
       "        text-align: right;\n",
       "    }\n",
       "</style>\n",
       "<table border=\"1\" class=\"dataframe\">\n",
       "  <thead>\n",
       "    <tr style=\"text-align: right;\">\n",
       "      <th></th>\n",
       "      <th>name</th>\n",
       "      <th>med</th>\n",
       "      <th>time</th>\n",
       "    </tr>\n",
       "  </thead>\n",
       "  <tbody>\n",
       "    <tr>\n",
       "      <th>0</th>\n",
       "      <td>Mr., Fattakhov</td>\n",
       "      <td>Mildronate</td>\n",
       "      <td>0</td>\n",
       "    </tr>\n",
       "    <tr>\n",
       "      <th>1</th>\n",
       "      <td>Mr., Fattakhov</td>\n",
       "      <td>Mildronate</td>\n",
       "      <td>28</td>\n",
       "    </tr>\n",
       "    <tr>\n",
       "      <th>2</th>\n",
       "      <td>Mr., Fattakhov</td>\n",
       "      <td>Mildronate</td>\n",
       "      <td>24</td>\n",
       "    </tr>\n",
       "    <tr>\n",
       "      <th>3</th>\n",
       "      <td>Mr., Fattakhov</td>\n",
       "      <td>Mildronate</td>\n",
       "      <td>32</td>\n",
       "    </tr>\n",
       "    <tr>\n",
       "      <th>4</th>\n",
       "      <td>Mr., Fattakhov</td>\n",
       "      <td>Mildronate</td>\n",
       "      <td>30</td>\n",
       "    </tr>\n",
       "  </tbody>\n",
       "</table>\n",
       "</div>"
      ],
      "text/plain": [
       "             name         med  time\n",
       "0  Mr., Fattakhov  Mildronate     0\n",
       "1  Mr., Fattakhov  Mildronate    28\n",
       "2  Mr., Fattakhov  Mildronate    24\n",
       "3  Mr., Fattakhov  Mildronate    32\n",
       "4  Mr., Fattakhov  Mildronate    30"
      ]
     },
     "execution_count": 29,
     "metadata": {},
     "output_type": "execute_result"
    }
   ],
   "source": [
    "df.head()"
   ]
  },
  {
   "cell_type": "code",
   "execution_count": 30,
   "metadata": {},
   "outputs": [
    {
     "data": {
      "text/plain": [
       "array(['Mildronate', 'Codeine', 'Analgine', 'Iodomarine', 'Irunine',\n",
       "       'Permetrine'], dtype=object)"
      ]
     },
     "execution_count": 30,
     "metadata": {},
     "output_type": "execute_result"
    }
   ],
   "source": [
    "meds = df['med'].unique()\n",
    "meds"
   ]
  },
  {
   "cell_type": "code",
   "execution_count": 33,
   "metadata": {},
   "outputs": [
    {
     "data": {
      "text/plain": [
       "array(['Mr., Fattakhov', 'Gospodin, Tsay'], dtype=object)"
      ]
     },
     "execution_count": 33,
     "metadata": {},
     "output_type": "execute_result"
    }
   ],
   "source": [
    "names = df['name'].unique()\n",
    "names"
   ]
  },
  {
   "cell_type": "code",
   "execution_count": 34,
   "metadata": {},
   "outputs": [
    {
     "data": {
      "image/png": "[encoded data removed]",
      "text/plain": [
       "<Figure size 720x360 with 1 Axes>"
      ]
     },
     "metadata": {
      "needs_background": "light"
     },
     "output_type": "display_data"
    }
   ],
   "source": [
    "sns.violinplot(x='med', y='time', data=df, hue='name', cut=0, palette='muted');\n"
   ]
  },
  {
   "cell_type": "markdown",
   "metadata": {},
   "source": [
    "Видим, что лекарства по-разному действуют на двух господ. Будет строить рекомендации для каждого из них отдельно."
   ]
  },
  {
   "cell_type": "code",
   "execution_count": 35,
   "metadata": {},
   "outputs": [],
   "source": [
    "fattakh = df[df['name'] == names[0]]\n",
    "tsay = df[df['name'] == names[1]]"
   ]
  },
  {
   "cell_type": "code",
   "execution_count": 36,
   "metadata": {},
   "outputs": [
    {
     "name": "stdout",
     "output_type": "stream",
     "text": [
      "4.5724552147564275\n",
      "2.97399574026432\n"
     ]
    }
   ],
   "source": [
    "stds = [tsay[tsay['med'] == med]['time'].std() for med in meds]\n",
    "print(np.max(stds) / np.min(stds))\n",
    "\n",
    "stds = [fattakh[fattakh['med'] == med]['time'].std() for med in meds]\n",
    "print(np.max(stds) / np.min(stds))"
   ]
  },
  {
   "cell_type": "markdown",
   "metadata": {},
   "source": [
    "Можем пользоваться критерием Фишера. Зафиксируем уровень значимости 0.05."
   ]
  },
  {
   "cell_type": "code",
   "execution_count": 37,
   "metadata": {},
   "outputs": [],
   "source": [
    "def perform_f(df):\n",
    "    samples = []\n",
    "    for med in meds:\n",
    "        samples.append(np.array(df[df['med'] == med]['time'], dtype=float))\n",
    "    print(sts.f_oneway(*samples))\n",
    "    return samples"
   ]
  },
  {
   "cell_type": "code",
   "execution_count": 38,
   "metadata": {},
   "outputs": [
    {
     "name": "stdout",
     "output_type": "stream",
     "text": [
      "F_onewayResult(statistic=1.3433477742279953, pvalue=0.25742091233589365)\n"
     ]
    }
   ],
   "source": [
    "samples_tsay = perform_f(tsay)"
   ]
  },
  {
   "cell_type": "code",
   "execution_count": 39,
   "metadata": {},
   "outputs": [
    {
     "name": "stdout",
     "output_type": "stream",
     "text": [
      "F_onewayResult(statistic=4.276294914472828, pvalue=0.0018004759884380859)\n"
     ]
    }
   ],
   "source": [
    "samples_fattakh = perform_f(fattakh)"
   ]
  },
  {
   "cell_type": "markdown",
   "metadata": {},
   "source": [
    "Для Цая мы принимаем гипотезу об однородности выборок, то есть лекарства не оказывают на него положительного эффекта по сравнению с плацебо. Для Фаттахова гипотеза однородности отвергается, то есть можно найти лекарства, которые помогают ему лучше. Используем для этого тест Тьюки."
   ]
  },
  {
   "cell_type": "code",
   "execution_count": 40,
   "metadata": {},
   "outputs": [],
   "source": [
    "from statsmodels.sandbox.stats.multicomp import MultiComparison"
   ]
  },
  {
   "cell_type": "code",
   "execution_count": 41,
   "metadata": {},
   "outputs": [
    {
     "data": {
      "text/html": [
       "<table class=\"simpletable\">\n",
       "<caption>Multiple Comparison of Means - Tukey HSD,FWER=0.05</caption>\n",
       "<tr>\n",
       "    <th>group1</th>     <th>group2</th>   <th>meandiff</th>   <th>lower</th>   <th>upper</th>  <th>reject</th>\n",
       "</tr>\n",
       "<tr>\n",
       "   <td>Analgine</td>    <td>Codeine</td>   <td>-10.225</td> <td>-18.3124</td> <td>-2.1376</td>  <td>True</td> \n",
       "</tr>\n",
       "<tr>\n",
       "   <td>Analgine</td>  <td>Iodomarine</td>  <td>-6.1635</td> <td>-14.5658</td> <td>2.2389</td>   <td>False</td>\n",
       "</tr>\n",
       "<tr>\n",
       "   <td>Analgine</td>    <td>Irunine</td>   <td>-5.525</td>  <td>-14.5961</td> <td>3.5461</td>   <td>False</td>\n",
       "</tr>\n",
       "<tr>\n",
       "   <td>Analgine</td>  <td>Mildronate</td>  <td>0.4583</td>   <td>-8.135</td>  <td>9.0516</td>   <td>False</td>\n",
       "</tr>\n",
       "<tr>\n",
       "   <td>Analgine</td>  <td>Permetrine</td>  <td>-1.1964</td>  <td>-9.4315</td> <td>7.0387</td>   <td>False</td>\n",
       "</tr>\n",
       "<tr>\n",
       "    <td>Codeine</td>  <td>Iodomarine</td>  <td>4.0615</td>   <td>-4.4654</td> <td>12.5885</td>  <td>False</td>\n",
       "</tr>\n",
       "<tr>\n",
       "    <td>Codeine</td>    <td>Irunine</td>     <td>4.7</td>    <td>-4.4866</td> <td>13.8866</td>  <td>False</td>\n",
       "</tr>\n",
       "<tr>\n",
       "    <td>Codeine</td>  <td>Mildronate</td>  <td>10.6833</td>  <td>1.9681</td>  <td>19.3985</td>  <td>True</td> \n",
       "</tr>\n",
       "<tr>\n",
       "    <td>Codeine</td>  <td>Permetrine</td>  <td>9.0286</td>   <td>0.6664</td>  <td>17.3908</td>  <td>True</td> \n",
       "</tr>\n",
       "<tr>\n",
       "  <td>Iodomarine</td>   <td>Irunine</td>   <td>0.6385</td>   <td>-8.8266</td> <td>10.1035</td>  <td>False</td>\n",
       "</tr>\n",
       "<tr>\n",
       "  <td>Iodomarine</td> <td>Mildronate</td>  <td>6.6218</td>   <td>-2.3864</td>  <td>15.63</td>   <td>False</td>\n",
       "</tr>\n",
       "<tr>\n",
       "  <td>Iodomarine</td> <td>Permetrine</td>   <td>4.967</td>   <td>-3.7001</td> <td>13.6342</td>  <td>False</td>\n",
       "</tr>\n",
       "<tr>\n",
       "    <td>Irunine</td>  <td>Mildronate</td>  <td>5.9833</td>   <td>-3.6517</td> <td>15.6183</td>  <td>False</td>\n",
       "</tr>\n",
       "<tr>\n",
       "    <td>Irunine</td>  <td>Permetrine</td>  <td>4.3286</td>   <td>-4.9884</td> <td>13.6455</td>  <td>False</td>\n",
       "</tr>\n",
       "<tr>\n",
       "  <td>Mildronate</td> <td>Permetrine</td>  <td>-1.6548</td> <td>-10.5072</td> <td>7.1977</td>   <td>False</td>\n",
       "</tr>\n",
       "</table>"
      ],
      "text/plain": [
       "<class 'statsmodels.iolib.table.SimpleTable'>"
      ]
     },
     "execution_count": 41,
     "metadata": {},
     "output_type": "execute_result"
    }
   ],
   "source": [
    "mcomp = MultiComparison(fattakh['time'], fattakh['med'])\n",
    "res = mcomp.tukeyhsd()\n",
    "res.summary()"
   ]
  },
  {
   "cell_type": "code",
   "execution_count": 42,
   "metadata": {},
   "outputs": [
    {
     "data": {
      "image/png": "[encoded data removed]",
      "text/plain": [
       "<Figure size 720x432 with 1 Axes>"
      ]
     },
     "metadata": {
      "needs_background": "light"
     },
     "output_type": "display_data"
    }
   ],
   "source": [
    "res.plot_simultaneous(comparison_name='Codeine', xlabel='time');"
   ]
  },
  {
   "cell_type": "markdown",
   "metadata": {},
   "source": [
    "Видим, что Codeine оказывает на Фаттахова статистически значимый успокаивающий эффект по сравнению с тремя другими лекарствами. Тем не менее, гипотеза о том, что его действие не отличается от плацебо, под видом которого выступает ирунин, не отвергается. "
   ]
  },
  {
   "cell_type": "markdown",
   "metadata": {},
   "source": [
    "# Задача 4\n"
   ]
  },
  {
   "cell_type": "code",
   "execution_count": 43,
   "metadata": {},
   "outputs": [
    {
     "data": {
      "text/plain": [
       "(250, 3)"
      ]
     },
     "execution_count": 43,
     "metadata": {},
     "output_type": "execute_result"
    }
   ],
   "source": [
    "data = np.load('hw7t4.npy')\n",
    "data.shape"
   ]
  },
  {
   "cell_type": "code",
   "execution_count": 44,
   "metadata": {},
   "outputs": [
    {
     "data": {
      "text/plain": [
       "array([[0.        , 0.        , 1.03882938],\n",
       "       [0.        , 0.        , 2.84280846],\n",
       "       [0.        , 0.        , 0.89072925],\n",
       "       [0.        , 0.        , 2.17677622],\n",
       "       [0.        , 0.        , 0.91522938]])"
      ]
     },
     "execution_count": 44,
     "metadata": {},
     "output_type": "execute_result"
    }
   ],
   "source": [
    "data[:5]"
   ]
  },
  {
   "cell_type": "code",
   "execution_count": 45,
   "metadata": {},
   "outputs": [
    {
     "data": {
      "text/html": [
       "<div>\n",
       "<style scoped>\n",
       "    .dataframe tbody tr th:only-of-type {\n",
       "        vertical-align: middle;\n",
       "    }\n",
       "\n",
       "    .dataframe tbody tr th {\n",
       "        vertical-align: top;\n",
       "    }\n",
       "\n",
       "    .dataframe thead th {\n",
       "        text-align: right;\n",
       "    }\n",
       "</style>\n",
       "<table border=\"1\" class=\"dataframe\">\n",
       "  <thead>\n",
       "    <tr style=\"text-align: right;\">\n",
       "      <th></th>\n",
       "      <th>1</th>\n",
       "      <th>2</th>\n",
       "      <th>target</th>\n",
       "    </tr>\n",
       "  </thead>\n",
       "  <tbody>\n",
       "    <tr>\n",
       "      <th>0</th>\n",
       "      <td>0.0</td>\n",
       "      <td>0.0</td>\n",
       "      <td>1.038829</td>\n",
       "    </tr>\n",
       "    <tr>\n",
       "      <th>1</th>\n",
       "      <td>0.0</td>\n",
       "      <td>0.0</td>\n",
       "      <td>2.842808</td>\n",
       "    </tr>\n",
       "    <tr>\n",
       "      <th>2</th>\n",
       "      <td>0.0</td>\n",
       "      <td>0.0</td>\n",
       "      <td>0.890729</td>\n",
       "    </tr>\n",
       "    <tr>\n",
       "      <th>3</th>\n",
       "      <td>0.0</td>\n",
       "      <td>0.0</td>\n",
       "      <td>2.176776</td>\n",
       "    </tr>\n",
       "    <tr>\n",
       "      <th>4</th>\n",
       "      <td>0.0</td>\n",
       "      <td>0.0</td>\n",
       "      <td>0.915229</td>\n",
       "    </tr>\n",
       "  </tbody>\n",
       "</table>\n",
       "</div>"
      ],
      "text/plain": [
       "     1    2    target\n",
       "0  0.0  0.0  1.038829\n",
       "1  0.0  0.0  2.842808\n",
       "2  0.0  0.0  0.890729\n",
       "3  0.0  0.0  2.176776\n",
       "4  0.0  0.0  0.915229"
      ]
     },
     "execution_count": 45,
     "metadata": {},
     "output_type": "execute_result"
    }
   ],
   "source": [
    "df = pd.DataFrame(data, columns=['1', '2', 'target'])\n",
    "df.head()"
   ]
  },
  {
   "cell_type": "code",
   "execution_count": 46,
   "metadata": {},
   "outputs": [
    {
     "data": {
      "text/html": [
       "<div>\n",
       "<style scoped>\n",
       "    .dataframe tbody tr th:only-of-type {\n",
       "        vertical-align: middle;\n",
       "    }\n",
       "\n",
       "    .dataframe tbody tr th {\n",
       "        vertical-align: top;\n",
       "    }\n",
       "\n",
       "    .dataframe thead th {\n",
       "        text-align: right;\n",
       "    }\n",
       "</style>\n",
       "<table border=\"1\" class=\"dataframe\">\n",
       "  <thead>\n",
       "    <tr style=\"text-align: right;\">\n",
       "      <th></th>\n",
       "      <th>1</th>\n",
       "      <th>2</th>\n",
       "      <th>target</th>\n",
       "    </tr>\n",
       "  </thead>\n",
       "  <tbody>\n",
       "    <tr>\n",
       "      <th>count</th>\n",
       "      <td>250.000000</td>\n",
       "      <td>250.000000</td>\n",
       "      <td>250.000000</td>\n",
       "    </tr>\n",
       "    <tr>\n",
       "      <th>mean</th>\n",
       "      <td>2.000000</td>\n",
       "      <td>2.000000</td>\n",
       "      <td>2.591793</td>\n",
       "    </tr>\n",
       "    <tr>\n",
       "      <th>std</th>\n",
       "      <td>1.417051</td>\n",
       "      <td>1.417051</td>\n",
       "      <td>1.585729</td>\n",
       "    </tr>\n",
       "    <tr>\n",
       "      <th>min</th>\n",
       "      <td>0.000000</td>\n",
       "      <td>0.000000</td>\n",
       "      <td>-1.100667</td>\n",
       "    </tr>\n",
       "    <tr>\n",
       "      <th>25%</th>\n",
       "      <td>1.000000</td>\n",
       "      <td>1.000000</td>\n",
       "      <td>1.569911</td>\n",
       "    </tr>\n",
       "    <tr>\n",
       "      <th>50%</th>\n",
       "      <td>2.000000</td>\n",
       "      <td>2.000000</td>\n",
       "      <td>2.527358</td>\n",
       "    </tr>\n",
       "    <tr>\n",
       "      <th>75%</th>\n",
       "      <td>3.000000</td>\n",
       "      <td>3.000000</td>\n",
       "      <td>3.308374</td>\n",
       "    </tr>\n",
       "    <tr>\n",
       "      <th>max</th>\n",
       "      <td>4.000000</td>\n",
       "      <td>4.000000</td>\n",
       "      <td>9.506097</td>\n",
       "    </tr>\n",
       "  </tbody>\n",
       "</table>\n",
       "</div>"
      ],
      "text/plain": [
       "                1           2      target\n",
       "count  250.000000  250.000000  250.000000\n",
       "mean     2.000000    2.000000    2.591793\n",
       "std      1.417051    1.417051    1.585729\n",
       "min      0.000000    0.000000   -1.100667\n",
       "25%      1.000000    1.000000    1.569911\n",
       "50%      2.000000    2.000000    2.527358\n",
       "75%      3.000000    3.000000    3.308374\n",
       "max      4.000000    4.000000    9.506097"
      ]
     },
     "execution_count": 46,
     "metadata": {},
     "output_type": "execute_result"
    }
   ],
   "source": [
    "df.describe()"
   ]
  },
  {
   "cell_type": "code",
   "execution_count": 47,
   "metadata": {},
   "outputs": [
    {
     "data": {
      "text/plain": [
       "array([0., 1., 2., 3., 4.])"
      ]
     },
     "execution_count": 47,
     "metadata": {},
     "output_type": "execute_result"
    }
   ],
   "source": [
    "df['1'].unique()"
   ]
  },
  {
   "cell_type": "code",
   "execution_count": 48,
   "metadata": {},
   "outputs": [
    {
     "data": {
      "text/plain": [
       "array([0., 1., 2., 3., 4.])"
      ]
     },
     "execution_count": 48,
     "metadata": {},
     "output_type": "execute_result"
    }
   ],
   "source": [
    "df['2'].unique()"
   ]
  },
  {
   "cell_type": "code",
   "execution_count": 49,
   "metadata": {},
   "outputs": [
    {
     "data": {
      "text/plain": [
       "4.0    50\n",
       "3.0    50\n",
       "2.0    50\n",
       "1.0    50\n",
       "0.0    50\n",
       "Name: 1, dtype: int64"
      ]
     },
     "execution_count": 49,
     "metadata": {},
     "output_type": "execute_result"
    }
   ],
   "source": [
    "df['1'].value_counts()"
   ]
  },
  {
   "cell_type": "code",
   "execution_count": 50,
   "metadata": {},
   "outputs": [
    {
     "name": "stdout",
     "output_type": "stream",
     "text": [
      "4.0    10\n",
      "3.0    10\n",
      "2.0    10\n",
      "1.0    10\n",
      "0.0    10\n",
      "Name: 2, dtype: int64\n",
      "4.0    10\n",
      "3.0    10\n",
      "2.0    10\n",
      "1.0    10\n",
      "0.0    10\n",
      "Name: 2, dtype: int64\n",
      "4.0    10\n",
      "3.0    10\n",
      "2.0    10\n",
      "1.0    10\n",
      "0.0    10\n",
      "Name: 2, dtype: int64\n",
      "4.0    10\n",
      "3.0    10\n",
      "2.0    10\n",
      "1.0    10\n",
      "0.0    10\n",
      "Name: 2, dtype: int64\n",
      "4.0    10\n",
      "3.0    10\n",
      "2.0    10\n",
      "1.0    10\n",
      "0.0    10\n",
      "Name: 2, dtype: int64\n"
     ]
    }
   ],
   "source": [
    "for i in range(5):\n",
    "    print(df[df['1'] == i]['2'].value_counts())"
   ]
  },
  {
   "cell_type": "markdown",
   "metadata": {},
   "source": [
    "Признаки принимают дискретные значения, причем размеры выборок для каждого признака одинаковы. А значит, критерий Фишера устойчив к нарушению предположений и его можно использовать. Тем не менее, проверим предположение о равенстве дисперсий."
   ]
  },
  {
   "cell_type": "code",
   "execution_count": 51,
   "metadata": {},
   "outputs": [
    {
     "data": {
      "text/plain": [
       "<matplotlib.axes._subplots.AxesSubplot at 0x7f8f0e70d5c0>"
      ]
     },
     "execution_count": 51,
     "metadata": {},
     "output_type": "execute_result"
    },
    {
     "data": {
      "image/png": "[encoded data removed]",
      "text/plain": [
       "<Figure size 720x360 with 1 Axes>"
      ]
     },
     "metadata": {
      "needs_background": "light"
     },
     "output_type": "display_data"
    }
   ],
   "source": [
    "df['target'].hist(bins=30)"
   ]
  },
  {
   "cell_type": "markdown",
   "metadata": {},
   "source": [
    "Разобьем выборку на ячейки по значениям признаков."
   ]
  },
  {
   "cell_type": "code",
   "execution_count": 52,
   "metadata": {},
   "outputs": [
    {
     "name": "stdout",
     "output_type": "stream",
     "text": [
      "4.030044596716744\n"
     ]
    }
   ],
   "source": [
    "samples = np.zeros((5, 5, 10))\n",
    "stds = []\n",
    "means_jl = np.zeros((5,5))\n",
    "for i in range(5):\n",
    "    for j in range(5):\n",
    "        samples[i, j] = np.array(df[(df['1'] == i) & (df['2'] == j)]['target'])\n",
    "        stds.append(samples[i, j].std())\n",
    "        means_jl[i, j] = samples[i, j].mean()\n",
    "print(np.max(stds) / np.min(stds))"
   ]
  },
  {
   "cell_type": "markdown",
   "metadata": {},
   "source": [
    "Отношение меньше 10, так что считаем предположение о равенстве дисперсий выполненным."
   ]
  },
  {
   "cell_type": "markdown",
   "metadata": {},
   "source": [
    "Посчитаем выборочные средние:"
   ]
  },
  {
   "cell_type": "code",
   "execution_count": 53,
   "metadata": {},
   "outputs": [],
   "source": [
    "means_j = np.array([df[df['1'] == i]['target'].mean() for i in range(5)])\n",
    "means_l = np.array([df[df['2'] == i]['target'].mean() for i in range(5)])\n",
    "mean = df['target'].mean()\n",
    "k = m = 5\n",
    "n = 10"
   ]
  },
  {
   "cell_type": "code",
   "execution_count": 54,
   "metadata": {},
   "outputs": [
    {
     "data": {
      "text/plain": [
       "2.5917929681669016"
      ]
     },
     "execution_count": 54,
     "metadata": {},
     "output_type": "execute_result"
    }
   ],
   "source": [
    "mean"
   ]
  },
  {
   "cell_type": "markdown",
   "metadata": {},
   "source": [
    "Внутрифакторные дисперсии:"
   ]
  },
  {
   "cell_type": "code",
   "execution_count": 55,
   "metadata": {},
   "outputs": [
    {
     "data": {
      "text/plain": [
       "(10, 5, 5)"
      ]
     },
     "execution_count": 55,
     "metadata": {},
     "output_type": "execute_result"
    }
   ],
   "source": [
    "samples_moved = np.moveaxis(samples, -1, 0)\n",
    "samples_moved.shape"
   ]
  },
  {
   "cell_type": "code",
   "execution_count": 56,
   "metadata": {},
   "outputs": [],
   "source": [
    "s_1 = n * m / (k - 1) * np.sum((means_j - mean)**2)\n",
    "s_2 = n * k / (m - 1) * np.sum((means_l - mean)**2)\n",
    "s_12 = n / ((k - 1) * (m - 1)) * np.sum((means_jl - means_j.reshape(1,5).T - means_l + mean)**2)\n",
    "s_int = 1 / (k * m * (n - 1)) * np.sum((samples_moved - means_jl.reshape(1,5,5))**2)"
   ]
  },
  {
   "cell_type": "markdown",
   "metadata": {},
   "source": [
    "Применим правосторонний критерий, в таком случае $p = 1 - F$."
   ]
  },
  {
   "cell_type": "code",
   "execution_count": 57,
   "metadata": {},
   "outputs": [
    {
     "data": {
      "text/plain": [
       "(4.5366664823037, 0.0015250993253828752)"
      ]
     },
     "execution_count": 57,
     "metadata": {},
     "output_type": "execute_result"
    }
   ],
   "source": [
    "f1 = s_1 / s_int\n",
    "pvalue1 = sts.f.sf(x=f1, dfn=(k - 1), dfd=k * m * (n - 1))\n",
    "f1, pvalue1"
   ]
  },
  {
   "cell_type": "code",
   "execution_count": 58,
   "metadata": {},
   "outputs": [
    {
     "data": {
      "text/plain": [
       "(10.558736521266232, 7.391588105091947e-08)"
      ]
     },
     "execution_count": 58,
     "metadata": {},
     "output_type": "execute_result"
    }
   ],
   "source": [
    "f2 = s_2 / s_int\n",
    "pvalue2 = sts.f.sf(x=f2, dfn=(m - 1), dfd=k * m * (n - 1))\n",
    "f2, pvalue2"
   ]
  },
  {
   "cell_type": "code",
   "execution_count": 59,
   "metadata": {},
   "outputs": [
    {
     "data": {
      "text/plain": [
       "(0.8335850140678461, 0.6466025101739976)"
      ]
     },
     "execution_count": 59,
     "metadata": {},
     "output_type": "execute_result"
    }
   ],
   "source": [
    "f12 = s_12 / s_int\n",
    "pvalue12 = sts.f.sf(x=f12, dfn=(m - 1) * (k - 1), dfd=k * m * (n - 1))\n",
    "f12, pvalue12"
   ]
  },
  {
   "cell_type": "code",
   "execution_count": 60,
   "metadata": {},
   "outputs": [
    {
     "data": {
      "text/plain": [
       "(array([ True,  True, False]),\n",
       " array([3.05019865e-03, 2.21747643e-07, 6.46602510e-01]),\n",
       " 0.016952427508441503,\n",
       " 0.016666666666666666)"
      ]
     },
     "execution_count": 60,
     "metadata": {},
     "output_type": "execute_result"
    }
   ],
   "source": [
    "multipletests([pvalue1, pvalue2, pvalue12], alpha=0.05, method='holm')"
   ]
  },
  {
   "cell_type": "markdown",
   "metadata": {},
   "source": [
    "Отвергаем гипотезы об отсутствии влиянии признаков на целевую переменную. Принимаем гипотезу об отсутствии взаимодействия факторов."
   ]
  }
 ],
 "metadata": {
  "kernelspec": {
   "display_name": "Python 3",
   "language": "python",
   "name": "python3"
  },
  "language_info": {
   "codemirror_mode": {
    "name": "ipython",
    "version": 3
   },
   "file_extension": ".py",
   "mimetype": "text/x-python",
   "name": "python",
   "nbconvert_exporter": "python",
   "pygments_lexer": "ipython3",
   "version": "3.6.8"
  },
  "latex_envs": {
   "LaTeX_envs_menu_present": true,
   "autoclose": true,
   "autocomplete": false,
   "bibliofile": "biblio.bib",
   "cite_by": "apalike",
   "current_citInitial": 1,
   "eqLabelWithNumbers": false,
   "eqNumInitial": 1,
   "hotkeys": {
    "equation": "Ctrl-E",
    "itemize": "Ctrl-I"
   },
   "labels_anchors": false,
   "latex_user_defs": false,
   "report_style_numbering": false,
   "user_envs_cfg": false
  }
 },
 "nbformat": 4,
 "nbformat_minor": 2
}
